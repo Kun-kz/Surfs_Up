{
 "cells": [
  {
   "cell_type": "code",
   "execution_count": 1,
   "metadata": {},
   "outputs": [],
   "source": [
    "import pandas as pd\n",
    "import sqlite3"
   ]
  },
  {
   "cell_type": "code",
   "execution_count": 2,
   "metadata": {},
   "outputs": [
    {
     "name": "stdout",
     "output_type": "stream",
     "text": [
      "   id      station                                    name  latitude  \\\n",
      "0   1  USC00519397                    WAIKIKI 717.2, HI US   21.2716   \n",
      "1   2  USC00513117                    KANEOHE 838.1, HI US   21.4234   \n",
      "2   3  USC00514830  KUALOA RANCH HEADQUARTERS 886.9, HI US   21.5213   \n",
      "3   4  USC00517948                       PEARL CITY, HI US   21.3934   \n",
      "4   5  USC00518838              UPPER WAHIAWA 874.3, HI US   21.4992   \n",
      "\n",
      "   longitude  elevation  \n",
      "0  -157.8168        3.0  \n",
      "1  -157.8015       14.6  \n",
      "2  -157.8374        7.0  \n",
      "3  -157.9751       11.9  \n",
      "4  -158.0111      306.6  \n"
     ]
    }
   ],
   "source": [
    "con = sqlite3.connect(\"hawaii.sqlite\")\n",
    "df = pd.read_sql_query(\"Select * from station\", con)\n",
    "\n",
    "print(df.head())\n",
    "\n",
    "con.close()"
   ]
  },
  {
   "cell_type": "code",
   "execution_count": 3,
   "metadata": {},
   "outputs": [
    {
     "name": "stdout",
     "output_type": "stream",
     "text": [
      "   id      station        date  prcp  tobs\n",
      "0   1  USC00519397  2010-01-01  0.08  65.0\n",
      "1   2  USC00519397  2010-01-02  0.00  63.0\n",
      "2   3  USC00519397  2010-01-03  0.00  74.0\n",
      "3   4  USC00519397  2010-01-04  0.00  76.0\n",
      "4   5  USC00519397  2010-01-06   NaN  73.0\n"
     ]
    }
   ],
   "source": [
    "con = sqlite3.connect(\"hawaii.sqlite\")\n",
    "df = pd.read_sql_query(\"Select * from measurement\", con)\n",
    "\n",
    "print(df.head())\n",
    "\n",
    "con.close()"
   ]
  }
 ],
 "metadata": {
  "kernelspec": {
   "display_name": "PythonData",
   "language": "python",
   "name": "pythondata"
  },
  "language_info": {
   "codemirror_mode": {
    "name": "ipython",
    "version": 3
   },
   "file_extension": ".py",
   "mimetype": "text/x-python",
   "name": "python",
   "nbconvert_exporter": "python",
   "pygments_lexer": "ipython3",
   "version": "3.7.9"
  }
 },
 "nbformat": 4,
 "nbformat_minor": 4
}
